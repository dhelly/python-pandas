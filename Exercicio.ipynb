{
 "cells": [
  {
   "cell_type": "code",
   "execution_count": 1,
   "id": "791f568a",
   "metadata": {},
   "outputs": [],
   "source": [
    "import pandas as pd\n",
    "\n",
    "# Below, we have a list of delicious tortilla chip flavors\n",
    "flavors = [\"Spicy Sweet Chili\", \"Cool Ranch\", \"Nacho Cheese\", \"Salsa Verde\"]"
   ]
  },
  {
   "cell_type": "code",
   "execution_count": 2,
   "id": "e603c506",
   "metadata": {},
   "outputs": [],
   "source": [
    "doritos = pd.Series(flavors)"
   ]
  },
  {
   "cell_type": "code",
   "execution_count": 3,
   "id": "ec48c1aa",
   "metadata": {},
   "outputs": [
    {
     "data": {
      "text/plain": [
       "0    Spicy Sweet Chili\n",
       "1           Cool Ranch\n",
       "2         Nacho Cheese\n",
       "3          Salsa Verde\n",
       "dtype: object"
      ]
     },
     "execution_count": 3,
     "metadata": {},
     "output_type": "execute_result"
    }
   ],
   "source": [
    "doritos"
   ]
  },
  {
   "cell_type": "code",
   "execution_count": 6,
   "id": "d5389a9d",
   "metadata": {},
   "outputs": [],
   "source": [
    "sorted_doritos = doritos.sort_values(ascending=False)"
   ]
  },
  {
   "cell_type": "code",
   "execution_count": 7,
   "id": "765b3354",
   "metadata": {},
   "outputs": [
    {
     "data": {
      "text/plain": [
       "0    Spicy Sweet Chili\n",
       "3          Salsa Verde\n",
       "2         Nacho Cheese\n",
       "1           Cool Ranch\n",
       "dtype: object"
      ]
     },
     "execution_count": 7,
     "metadata": {},
     "output_type": "execute_result"
    }
   ],
   "source": [
    "sorted_doritos"
   ]
  },
  {
   "cell_type": "code",
   "execution_count": null,
   "id": "cb0676f1",
   "metadata": {},
   "outputs": [],
   "source": []
  },
  {
   "cell_type": "code",
   "execution_count": 14,
   "id": "e9e2e8d5",
   "metadata": {},
   "outputs": [],
   "source": [
    "flavors = [\"Red\", \"Blue\", \"Green\", \"Orange\"]\n",
    "gatorade = pd.Series(flavors).sort_values()"
   ]
  },
  {
   "cell_type": "code",
   "execution_count": 15,
   "id": "66b08306",
   "metadata": {},
   "outputs": [
    {
     "data": {
      "text/plain": [
       "1      Blue\n",
       "2     Green\n",
       "3    Orange\n",
       "0       Red\n",
       "dtype: object"
      ]
     },
     "execution_count": 15,
     "metadata": {},
     "output_type": "execute_result"
    }
   ],
   "source": [
    "gatorade"
   ]
  },
  {
   "cell_type": "code",
   "execution_count": 12,
   "id": "a3114381",
   "metadata": {},
   "outputs": [],
   "source": [
    "gatorade = pd.Series(flavors)"
   ]
  },
  {
   "cell_type": "code",
   "execution_count": 17,
   "id": "1ab09508",
   "metadata": {},
   "outputs": [
    {
     "data": {
      "text/plain": [
       "0       Red\n",
       "1      Blue\n",
       "2     Green\n",
       "3    Orange\n",
       "dtype: object"
      ]
     },
     "execution_count": 17,
     "metadata": {},
     "output_type": "execute_result"
    }
   ],
   "source": [
    "gatorade.sort_index()"
   ]
  },
  {
   "cell_type": "code",
   "execution_count": null,
   "id": "b53e350f",
   "metadata": {},
   "outputs": [],
   "source": []
  },
  {
   "cell_type": "code",
   "execution_count": 24,
   "id": "c9e82e42",
   "metadata": {},
   "outputs": [],
   "source": [
    "coffee = pd.read_csv(\"bigmac.csv\", index_col='Date', usecols=['Date', 'Country']).squeeze(\"columns\")"
   ]
  },
  {
   "cell_type": "code",
   "execution_count": 25,
   "id": "b15a46fb",
   "metadata": {},
   "outputs": [
    {
     "data": {
      "text/plain": [
       "Date\n",
       "1/2016        Argentina\n",
       "1/2016        Australia\n",
       "1/2016           Brazil\n",
       "1/2016          Britain\n",
       "1/2016           Canada\n",
       "              ...      \n",
       "1/2010           Turkey\n",
       "1/2010              UAE\n",
       "1/2010          Ukraine\n",
       "1/2010    United States\n",
       "1/2010          Uruguay\n",
       "Name: Country, Length: 652, dtype: object"
      ]
     },
     "execution_count": 25,
     "metadata": {},
     "output_type": "execute_result"
    }
   ],
   "source": [
    "coffee"
   ]
  },
  {
   "cell_type": "code",
   "execution_count": null,
   "id": "a3a5795e",
   "metadata": {},
   "outputs": [],
   "source": [
    "# Import the pandas library and assign it its \"pd\" alias\n",
    "import pandas as pd\n",
    " \n",
    "# Create a list with 4 countries - United States, France, Germany, Italy\n",
    "# Create a new Series by passing in the list of countries\n",
    "# Assign the Series to a \"countries\" variable\n",
    "countries = pd.Series([\"United States\", \"France\", \"Germany\", \"Italy\"])\n",
    " \n",
    "# Create a list with 3 colors - red, green, blue\n",
    "# Create a new Series by passing in the list of colors\n",
    "# Assign the Series to a \"colors\" variable\n",
    "colors = pd.Series([\"red\", \"green\", \"blue\"])\n",
    " \n",
    "# Given the \"recipe\" dictionary below,\n",
    "# create a new Series by passing in the dictionary as the data source\n",
    "# Assign the resulting Series to a \"series_dict\" variable\n",
    "recipe = {\n",
    "  \"Flour\": True,\n",
    "  \"Sugar\": True,\n",
    "  \"Salt\": False\n",
    "}\n",
    "series_dict = pd.Series(recipe)"
   ]
  },
  {
   "cell_type": "code",
   "execution_count": null,
   "id": "5e862b70",
   "metadata": {},
   "outputs": [],
   "source": [
    "import pandas as pd\n",
    " \n",
    "# The Series below stores the number of home runs\n",
    "# that a baseball player hit per game\n",
    "home_runs = pd.Series([3, 4, 8, 2])\n",
    " \n",
    "# Find the total number of home runs (i.e. the sum) and assign it\n",
    "# to the total_home_runs variable below\n",
    "total_home_runs = home_runs.sum()\n",
    " \n",
    "# Find the average number of home runs and assign it\n",
    "# to the average_home_runs variable below\n",
    "average_home_runs = home_runs.mean()"
   ]
  },
  {
   "cell_type": "code",
   "execution_count": null,
   "id": "cf90887a",
   "metadata": {},
   "outputs": [],
   "source": [
    "# If you see a test failure when checking your solution,\n",
    "# note that [left] refers to YOUR code while [right]\n",
    "# refers to the correct code that the computer is comparing\n",
    "# to your work\n",
    " \n",
    "# The code below defines a list of delicious foods\n",
    "# and some dipping sauces to dip them in\n",
    "import pandas as pd\n",
    " \n",
    "foods = [\"French Fries\", \"Chicken Nuggets\", \"Celery\", \"Carrots\"]\n",
    "dipping_sauces = [\"BBQ\", \"Honey Mustard\", \"Ranch\", \"Sriracha\"]\n",
    " \n",
    "# Create a Series and assign it to the s1 variable below. \n",
    "# Assign the foods list as the data source\n",
    "# and the dipping_sauces list as the Series index \n",
    "# For this solution, use positional arguments (i.e. feed in the arguments sequentially)\n",
    "s1 = pd.Series(foods, dipping_sauces)\n",
    " \n",
    " \n",
    "# Create a Series and assign it to the s2 variable below. \n",
    "# Assign the dipping_sauces list as the data source\n",
    "# and the foods list as the Series index \n",
    "# For this solution, use keyword arguments (i.e. provide the parameter names\n",
    "# alongside the arguments)\n",
    "s2 = pd.Series(data = dipping_sauces, index = foods)"
   ]
  },
  {
   "cell_type": "code",
   "execution_count": null,
   "id": "28c5c16b",
   "metadata": {},
   "outputs": [],
   "source": [
    "# If you see a test failure when checking your solution,\n",
    "# note that [left] refers to YOUR code while [right]\n",
    "# refers to the correct code that the computer is comparing\n",
    "# to your work\n",
    " \n",
    "import pandas as pd\n",
    " \n",
    "# We have a foods.csv CSV file with 3 columns: Item Number, Menu Item, Price\n",
    "# You can explore the data by clicking into the foods.csv file on the left\n",
    "# Import the CSV file into a pandas Series object\n",
    "# The Series should have the standard pandas numeric index\n",
    "# The Series values should be the string values from the \"Menu Item\" column\n",
    "# Assign the Series object to a \"foods\" variable\n",
    "foods = pd.read_csv(\"foods.csv\", usecols = [\"Menu Item\"]).squeeze(\"columns\")"
   ]
  },
  {
   "cell_type": "code",
   "execution_count": null,
   "id": "e4cbdb14",
   "metadata": {},
   "outputs": [],
   "source": [
    "# If you see a test failure when checking your solution,\n",
    "# note that [left] refers to YOUR code while [right]\n",
    "# refers to the correct code that the computer is comparing\n",
    "# to your work\n",
    " \n",
    "import pandas as pd\n",
    " \n",
    "# We have a roller_coasters.csv CSV file with 4 columns: Name, Park, Country, and Height.\n",
    "# You can explore the data by clicking into the CSV file on the left\n",
    "# Import the CSV file into a pandas Series object\n",
    "# The Series should have the standard pandas numeric index\n",
    "# The Series values should be the string values from the \"Name\" column\n",
    "# Assign the Series object to a \"coasters\" variable\n",
    "coasters = pd.read_csv(\"roller_coasters.csv\", usecols = [\"Name\"]).squeeze(\"columns\")\n",
    " \n",
    " \n",
    "# I only want to ride the top 3 roller coasters on the list.\n",
    "# Starting with the \"coasters\" Series, extract the first 3 rows in a new Series.\n",
    "# Assign the new Series to a \"top_three\" variable.\n",
    "top_three = coasters.head(3)\n",
    " \n",
    " \n",
    "# I'm now curious about some of the last entries on the coaster list.\n",
    "# Starting with the \"coasters\" Series, extract the last 4 rows in a new Series.\n",
    "# Assign the new Series to a \"bottom_four\" variable.\n",
    "bottom_four = coasters.tail(4)"
   ]
  },
  {
   "cell_type": "code",
   "execution_count": null,
   "id": "3cd417c0",
   "metadata": {},
   "outputs": [],
   "source": [
    "# If you see a test failure when checking your solution,\n",
    "# note that [left] refers to YOUR code while [right]\n",
    "# refers to the correct code that the computer is comparing\n",
    "# to your work\n",
    " \n",
    "import pandas as pd\n",
    " \n",
    "# Below, we have a list of delicious tortilla chip flavors\n",
    "flavors = [\"Spicy Sweet Chili\", \"Cool Ranch\", \"Nacho Cheese\", \"Salsa Verde\"]\n",
    " \n",
    "# Create a new Series object, passing in the flavors list defined above\n",
    "# Assign it to a 'doritos' variable. The resulting Series should look like this:\n",
    "#\n",
    "#\n",
    "#   0    Spicy Sweet Chili\n",
    "#   1           Cool Ranch\n",
    "#   2         Nacho Cheese\n",
    "#   3          Salsa Verde\n",
    "#   dtype: object\n",
    "doritos = pd.Series(flavors)\n",
    " \n",
    "# Below, sort the doritos Series in descending order.\n",
    "# Assign the sorted a Series to a 'sorted_doritos' variable.\n",
    "# The sorted Series should like this:\n",
    "#\n",
    "#   0    Spicy Sweet Chili\n",
    "#   3          Salsa Verde\n",
    "#   2         Nacho Cheese\n",
    "#   1           Cool Ranch\n",
    "#   dtype: object\n",
    "sorted_doritos = doritos.sort_values(ascending = False)"
   ]
  },
  {
   "cell_type": "code",
   "execution_count": null,
   "id": "21787e85",
   "metadata": {},
   "outputs": [],
   "source": [
    "# If you see a test failure when checking your solution,\n",
    "# note that [left] refers to YOUR code while [right]\n",
    "# refers to the correct code that the computer is comparing\n",
    "# to your work\n",
    "import pandas as pd\n",
    " \n",
    "# Below, we have a list of delicious drink flavors\n",
    "# We create a sorted Series of strings and assign it to a 'gatorade' variable\n",
    "flavors = [\"Red\", \"Blue\", \"Green\", \"Orange\"]\n",
    "gatorade = pd.Series(flavors).sort_values()\n",
    " \n",
    "# I'd like to return the Series to its original order \n",
    "# (sorted by the numeric index in ascending order). \n",
    "# Sort the gatorade Series by index.\n",
    "# Assign the result to an 'original' variable.\n",
    "original = gatorade.sort_index()"
   ]
  },
  {
   "cell_type": "code",
   "execution_count": null,
   "id": "033b2e30",
   "metadata": {},
   "outputs": [],
   "source": [
    " If you see a test failure when checking your solution,\n",
    "# note that [left] refers to YOUR code while [right]\n",
    "# refers to the correct code that the computer is comparing\n",
    "# to your work\n",
    " \n",
    "import pandas as pd\n",
    " \n",
    "# This challenge includes a coffee.csv with 2 columns: \n",
    "# Coffee and Calories. Import the CSV. Assign the Coffee\n",
    "# column to be the index and the Calories column to be the\n",
    "# Series' values. Assign the Series to a 'coffee' variable.\n",
    "coffee = pd.read_csv(\"coffee.csv\", index_col = \"Coffee\").squeeze(\"columns\")\n",
    " \n",
    "# Check whether the coffee 'Flat White' is present in the data.\n",
    "# Assign the result to a `flat_white` variable\n",
    "flat_white = \"Flat White\" in coffee.index\n",
    " \n",
    "# Check whether the coffee 'Cortado' is present in the data.\n",
    "# Assign the result to a `cortado` variable\n",
    "cortado = \"Cortado\" in coffee.index\n",
    " \n",
    "# Check whether the coffee 'Blackberry Mocha' is present in the data.\n",
    "# Assign the result to a `blackberry_mocha` variable\n",
    "blackberry_mocha = \"Blackberry Mocha\" in coffee.index\n",
    " \n",
    "# Check whether the value 221 is present in the data.\n",
    "# Assign the result to a 'high_calorie' variable.\n",
    "high_calorie = 221 in coffee.values\n",
    " \n",
    "# Check whether the value 400 is present in the data.\n",
    "# Assign the result to a 'super_high_calorie' variable.\n",
    "super_high_calorie = 400 in coffee.values"
   ]
  },
  {
   "cell_type": "code",
   "execution_count": null,
   "id": "0a6f5893",
   "metadata": {},
   "outputs": [],
   "source": []
  },
  {
   "cell_type": "code",
   "execution_count": 26,
   "id": "2c5d6de4",
   "metadata": {},
   "outputs": [],
   "source": [
    "guitars_dict = {\n",
    "    \"Fender Telecaster\": \"Baby Blue\",\n",
    "    \"Gibson Les Paul\": \"Sunburst\",\n",
    "    \"ESP Eclipse\": \"Dark Green\"\n",
    "}"
   ]
  },
  {
   "cell_type": "code",
   "execution_count": 27,
   "id": "0b34c565",
   "metadata": {},
   "outputs": [],
   "source": [
    "guitar = pd.Series(guitars_dict)"
   ]
  },
  {
   "cell_type": "code",
   "execution_count": 28,
   "id": "da572a0a",
   "metadata": {},
   "outputs": [
    {
     "data": {
      "text/plain": [
       "Fender Telecaster     Baby Blue\n",
       "Gibson Les Paul        Sunburst\n",
       "ESP Eclipse          Dark Green\n",
       "dtype: object"
      ]
     },
     "execution_count": 28,
     "metadata": {},
     "output_type": "execute_result"
    }
   ],
   "source": [
    "guitar"
   ]
  },
  {
   "cell_type": "code",
   "execution_count": 29,
   "id": "01195691",
   "metadata": {},
   "outputs": [
    {
     "data": {
      "text/plain": [
       "'Baby Blue'"
      ]
     },
     "execution_count": 29,
     "metadata": {},
     "output_type": "execute_result"
    }
   ],
   "source": [
    "guitar[0]"
   ]
  },
  {
   "cell_type": "code",
   "execution_count": 30,
   "id": "4e79bf01",
   "metadata": {},
   "outputs": [
    {
     "data": {
      "text/plain": [
       "'Sunburst'"
      ]
     },
     "execution_count": 30,
     "metadata": {},
     "output_type": "execute_result"
    }
   ],
   "source": [
    "guitar[\"Gibson Les Paul\"]"
   ]
  },
  {
   "cell_type": "code",
   "execution_count": null,
   "id": "61d03431",
   "metadata": {},
   "outputs": [],
   "source": [
    "import pandas as pd\n",
    " \n",
    "# I have a dictionary that maps guitar types to their colors\n",
    "guitars_dict = {\n",
    "    \"Fender Telecaster\": \"Baby Blue\",\n",
    "    \"Gibson Les Paul\": \"Sunburst\",\n",
    "    \"ESP Eclipse\": \"Dark Green\"\n",
    "}\n",
    " \n",
    "# Create a new Series object, passing in the guitars_dict dictionary as the data source.\n",
    "# Assign the resulting Series to a \"guitars\" variable.\n",
    "guitars = pd.Series(guitars_dict)\n",
    " \n",
    "# Access the value for the index position of 0 within the \"guitars\" Series.\n",
    "# Assign the value to a \"fender_color\" variable.\n",
    "fender_color = guitars[0]\n",
    " \n",
    "# Access the value for the index label of \"Gibson Les Paul\" in the \"guitars\" Series.\n",
    "# Assign the value to a \"gibson_color\" variable.\n",
    "gibson_color = guitars[\"Gibson Les Paul\"]\n",
    " \n",
    "# Access the value for the index label of \"ESP Eclipse\" in the \"guitars\" Series.\n",
    "# Assign the value to a \"esp_color\" variable.\n",
    "esp_color = guitars[\"ESP Eclipse\"]"
   ]
  },
  {
   "cell_type": "code",
   "execution_count": 31,
   "id": "5726c2e3",
   "metadata": {},
   "outputs": [
    {
     "name": "stdout",
     "output_type": "stream",
     "text": [
      "Object `pandas` not found.\n"
     ]
    }
   ],
   "source": [
    "# If you see a test failure when checking your solution,\n",
    "# note that [left] refers to YOUR code while [right]\n",
    "# refers to the correct code that the computer is comparing\n",
    "# to your work\n",
    " \n",
    "import pandas as pd\n",
    " \n",
    "# We have a hot_dogs.csv CSV file with 2 columns: Year and Winner.\n",
    "# The dataset stores the winner of the world-famous Nathan's Hot Dog Eating\n",
    "# contest for each year since 1967. You can explore the data by clicking into \n",
    "# the CSV file on the left.\n",
    "#\n",
    "# Import the CSV file into a pandas Series object\n",
    "# The Series should have the standard pandas numeric index\n",
    "# The Series values should be the string values from the \"Winner\" column\n",
    "# Assign the Series object to a \"hot_dogs\" variable\n",
    "hot_dogs = pd.read_csv(\"hot_dogs.csv\", usecols = [\"Winner\"], squeeze = True)\n",
    " \n",
    " \n",
    "# I'm curious how many times each winner has won the hot dog-eating contest.\n",
    "# Create a new Series that shows each person's name (index labels) \n",
    "# and the number of times they've won (the values). What method can\n",
    "# help you generate this Series?\n",
    "# Asssign the Series to a \"names_and_wins\" variable.\n",
    "names_and_wins = hot_dogs.value_counts()"
   ]
  },
  {
   "cell_type": "code",
   "execution_count": null,
   "id": "e3125eda",
   "metadata": {},
   "outputs": [],
   "source": [
    "# If you see a test failure when checking your solution,\n",
    "# note that [left] refers to YOUR code while [right]\n",
    "# refers to the correct code that the computer is comparing\n",
    "# to your work\n",
    " \n",
    "import pandas as pd \n",
    " \n",
    "# This challenge includes a cruise_ships.csv with 4 columns: \n",
    "# Name, Operator, Year, and Tonnage\n",
    "# Import the cruise_ships.csv DataFrame and assign it to\n",
    "# a cruise_ships variable\n",
    "cruise_ships = pd.read_csv(\"cruise_ships.csv\")\n",
    " \n",
    "# Extract the \"Operator\" column from the DataFrame\n",
    "# and assign it to an \"operators\" variable.\n",
    "operators = cruise_ships[\"Operator\"]\n",
    " \n",
    "# Extract the \"Tonnage\" column from the DataFrame\n",
    "# and assign it to an \"tonnages\" variable.\n",
    "tonnages = cruise_ships[\"Tonnage\"]\n",
    " \n",
    "# Extract the \"Name\" column from the DataFrame\n",
    "# and assign it to an \"cruise_names\" variable.\n",
    "cruise_names = cruise_ships[\"Name\"]"
   ]
  },
  {
   "cell_type": "code",
   "execution_count": null,
   "id": "23a9b0e6",
   "metadata": {},
   "outputs": [],
   "source": [
    "# If you see a test failure when checking your solution,\n",
    "# note that [left] refers to YOUR code while [right]\n",
    "# refers to the correct code that the computer is comparing\n",
    "# to your work\n",
    " \n",
    "import pandas as pd \n",
    " \n",
    "# This challenge includes a \"chicken_restaurants.csv\" dataset with 6 columns:\n",
    "# Name, Original Location, Year, Headquarters, Locations, Areas Served\n",
    "# Import the CSV into a DataFrame and assign it to a \"chicken\" variable.\n",
    "chicken = pd.read_csv(\"chicken_restaurants.csv\")\n",
    " \n",
    "# Extract the \"Year\" and \"Locations\" columns (in that order) into\n",
    "# their own DataFrame. Assign the DataFrame to a \"years_and_locations\" variable.\n",
    "years_and_locations = chicken[[\"Year\", \"Locations\"]]\n",
    " \n",
    "# Extract the \"Locations\", \"Name\", and \"Headquarters\" columns (in that order)\n",
    "# into their own DataFrame. Assign the DataFrame to a \n",
    "# \"interesting_facts\" variable.\n",
    "interesting_facts = chicken[[\"Locations\", \"Name\", \"Headquarters\"]]"
   ]
  },
  {
   "cell_type": "code",
   "execution_count": null,
   "id": "479ce100",
   "metadata": {},
   "outputs": [],
   "source": [
    "# If you see a test failure when checking your solution,\n",
    "# note that [left] refers to YOUR code while [right]\n",
    "# refers to the correct code that the computer is comparing\n",
    "# to your work\n",
    " \n",
    "# The data.csv file contains a dataset of random numbers.\n",
    "# The dataset has 4 columns: A, B, C, and D.\n",
    "# Import pandas and use it to parse the CSV.\n",
    "# Assign the imported DataFrame to a variable called 'data'.\n",
    " \n",
    "import pandas as pd\n",
    "data = pd.read_csv(\"data.csv\")\n",
    " \n",
    "# Filter the dataset to remove rows where ALL the\n",
    "# values are missing. Assign the resulting DataFrame\n",
    "# to a \"no_empty_rows\" variable.\n",
    " \n",
    "no_empty_rows = data.dropna(how = \"all\")\n",
    " \n",
    "# Filter the dataset to remove rows that have a missing value\n",
    "# in either the \"B\" or \"D\" columns.\n",
    "# Assign the resulting DataFrame to a \"result\" variable.\n",
    " \n",
    "result = data.dropna(subset = [\"B\", \"D\"])"
   ]
  },
  {
   "cell_type": "code",
   "execution_count": null,
   "id": "2b5fd8c1",
   "metadata": {},
   "outputs": [],
   "source": [
    "# If you see a test failure when checking your solution,\n",
    "# note that [left] refers to YOUR code while [right]\n",
    "# refers to the correct code that the computer is comparing\n",
    "# to your work\n",
    " \n",
    "# Import the pandas library and assign it an alias of 'pd'.\n",
    "import pandas as pd\n",
    " \n",
    "# Import the health.csv file and assign it to a 'health' variable.\n",
    "# The resulting DataFrame will have 3 columns: Weight, Height, and Blood Type\n",
    "# Convert the values in the Weight Series to strings and overwrite the original column\n",
    "# Convert the values in the Height Series to integers and overwrite the original column\n",
    "# Convert the values in the Blood Type Series to categories and overwrite the original column\n",
    "health = pd.read_csv(\"health.csv\")\n",
    "health[\"Weight\"] = health[\"Weight\"].astype(str)\n",
    "health[\"Height\"] = health[\"Height\"].astype(int)\n",
    "health[\"Blood Type\"] = health[\"Blood Type\"].astype(\"category\")"
   ]
  },
  {
   "cell_type": "code",
   "execution_count": null,
   "id": "43bddf0b",
   "metadata": {},
   "outputs": [],
   "source": [
    "# If you see a test failure when checking your solution,\n",
    "# note that [left] refers to YOUR code while [right]\n",
    "# refers to the correct code that the computer is comparing\n",
    "# to your work\n",
    "import pandas as pd \n",
    " \n",
    "# This challenge includes a s&p500.csv with 6 columns: \n",
    "# Symbol, Security, Sector, Industry, HQ, Founded\n",
    "# Import the s&p500.csv DataFrame and assign it to\n",
    "# a companies variable.\n",
    "companies = pd.read_csv(\"s&p500.csv\")\n",
    " \n",
    "# Sort the DataFrame by the values in the \"Industry\" column in ascending order\n",
    "# Assign the new DataFrame to a \"by_industry\" variable.\n",
    "by_industry = companies.sort_values(\"Industry\", ascending = True)\n",
    " \n",
    "# Sort the DataFrame by the values in the \"HQ\" column in descending order\n",
    "# Assign the new DataFrame to a \"by_headquarters_descending\" variable.\n",
    "by_headquarters_descending = companies.sort_values(\"HQ\", ascending = False)\n",
    " \n",
    "# Sort the DataFrame by two conditions:\n",
    "#  - by the values in the \"Sector\" column in descending order\n",
    "#  - THEN by the values in the \"Security\" column in ascending order\n",
    "# Assign the new DataFrame to a 'by_sector_and_security' variable\n",
    "by_sector_and_security = companies.sort_values([\"Sector\", \"Security\"], ascending = [False, True])"
   ]
  },
  {
   "cell_type": "code",
   "execution_count": null,
   "id": "2c509385",
   "metadata": {},
   "outputs": [],
   "source": []
  },
  {
   "cell_type": "code",
   "execution_count": null,
   "id": "f192b025",
   "metadata": {},
   "outputs": [],
   "source": [
    "# If you see a test failure when checking your solution,\n",
    "# note that [left] refers to YOUR code while [right]\n",
    "# refers to the correct code that the computer is comparing\n",
    "# to your work\n",
    " \n",
    "# Let's start by importing pandas below\n",
    "import pandas as pd\n",
    " \n",
    "# This challenge includes a the_office.csv dataset.\n",
    "# It is a listing of all episodes in the popular American sitcom The Office.\n",
    "# The dataset has 7 columns:\n",
    "# Season, Episode, Name, Director, Writer, Airdate, Viewership\n",
    "# Import the the_office.csv fille into DataFrame. \n",
    "# Tell pandas to parse the values in the Airdate column as datetime values.\n",
    "# Finally, assign the imported DataFrame to an 'office' variable.\n",
    "office = pd.read_csv(\"the_office.csv\", parse_dates = [\"Airdate\"])\n",
    " \n",
    "# CHALLENGE 1:\n",
    "# Find all episodes with a Writer of \"Greg Daniels\"\n",
    "# Assign the resulting DataFrame to a 'written_by_greg' variable.\n",
    "written_by_greg = office[office[\"Writer\"] == \"Greg Daniels\"]\n",
    " \n",
    "# CHALLENGE 2:\n",
    "# Find all episodes BEFORE season 8 (not including season 8)\n",
    "# Assign the resulting DataFrame to a 'good_episodes' variable\n",
    "good_episodes = office[office[\"Season\"] < 8]\n",
    " \n",
    "# CHALLENGE 3:\n",
    "# Find all episodes that aired before 1/1/2008.\n",
    "# Assign the resulting DataFrame to an 'early_episodes' variable.\n",
    "early_episodes = office[office[\"Airdate\"] < \"1/1/2008\"]"
   ]
  },
  {
   "cell_type": "code",
   "execution_count": null,
   "id": "96337424",
   "metadata": {},
   "outputs": [],
   "source": []
  },
  {
   "cell_type": "code",
   "execution_count": null,
   "id": "10355284",
   "metadata": {},
   "outputs": [],
   "source": [
    "# If you see a test failure when checking your solution,\n",
    "# note that [left] refers to YOUR code while [right]\n",
    "# refers to the correct code that the computer is comparing\n",
    "# to your work\n",
    "\n",
    "# Let's start by importing pandas below\n",
    "import pandas as pd\n",
    "\n",
    "# This challenge includes a the_office.csv dataset.\n",
    "# It is a listing of all episodes in the popular American sitcom The Office.\n",
    "# The dataset has 7 columns:\n",
    "# Season, Episode, Name, Director, Writer, Airdate, Viewership\n",
    "# Import the the_office.csv file into a DataFrame. \n",
    "# Tell pandas to parse the values in the Airdate column as datetime values.\n",
    "# Finally, assign the imported DataFrame to an 'office' variable.\n",
    "office = pd.read_csv(\"the_office.csv\", parse_dates = [\"Airdate\"])\n",
    "\n",
    "# CHALLENGE 1:\n",
    "# Find all episodes with a Viewership greater than 10\n",
    "# who are also directed by Jeffrey Blitz\n",
    "# Assign the resulting DataFrame to a 'jeffs_episodes' variable.\n",
    "#jeffs_episodes = office[office[\"Viewership\"] > 10 & office[\"Director\"] == \"Jeffrey Blitz\"]\n",
    "good_viewership = office[\"Viewership\"] > 10\n",
    "directed_by_jeff = office[\"Director\"] == \"Jeffrey Blitz\"\n",
    "jeffs_episodes = office[good_viewership & directed_by_jeff]\n",
    "\n",
    "# CHALLENGE 2:\n",
    "# Find all episodes in season 5 that have an episode number\n",
    "# greater than or equal to 13.\n",
    "# Assign the resulting DataFrame to a \"second_half_of_season_5\" variable.\n",
    "#second_half_of_season_5 = office[office[\"Season\"] == 5 & office[\"Episode\"] >= 13]\n",
    "season_5 = office[\"Season\"] == 5\n",
    "episodes_13_and_up = office[\"Episode\"] >= 13\n",
    "second_half_of_season_5 = office[season_5 & episodes_13_and_up]\n",
    "\n",
    "# CHALLENGE 3:\n",
    "# Find all episodes that were the 6th episode of their season\n",
    "# and also aired before 01/01/2010.\n",
    "# Assign the resulting DataFrame to a \"sixth_episodes_of_early_seasons\" variable.\n",
    "#sixth_episodes_of_early_seasons = office[office[\"Episode\"] == 6 & office[\"Airdate\"] < \"01/01/2010\"]\n",
    "sixth_episodes = office[\"Episode\"] == 6\n",
    "desired_airdate = office[\"Airdate\"] < \"01/01/2010\"\n",
    "sixth_episodes_of_early_seasons = office[sixth_episodes & desired_airdate]"
   ]
  },
  {
   "cell_type": "code",
   "execution_count": null,
   "id": "e09b4255",
   "metadata": {},
   "outputs": [],
   "source": []
  },
  {
   "cell_type": "code",
   "execution_count": null,
   "id": "dffd6389",
   "metadata": {},
   "outputs": [],
   "source": [
    "# If you see a test failure when checking your solution,\n",
    "# note that [left] refers to YOUR code while [right]\n",
    "# refers to the correct code that the computer is comparing\n",
    "# to your work\n",
    "\n",
    "# Let's start by importing pandas below\n",
    "import pandas as pd\n",
    "\n",
    "# This challenge includes a the_office.csv dataset.\n",
    "# It is a listing of all episodes in the popular American sitcom The Office.\n",
    "# The dataset has 7 columns:\n",
    "# Season, Episode, Name, Director, Writer, Airdate, Viewership\n",
    "# Import the the_office.csv file into a DataFrame. \n",
    "# Tell pandas to parse the values in the Airdate column as datetime values.\n",
    "# Finally, assign the imported DataFrame to an 'office' variable.\n",
    "office = pd.read_csv(\"the_office.csv\", parse_dates = [\"Airdate\"])\n",
    "\n",
    "# CHALLENGE 1:\n",
    "# Find all episodes that were EITHER in Season 4\n",
    "# OR directed by Harold Ramis\n",
    "# Assign the resulting DataFrame to a 'season_4_or_harold' variable.\n",
    "mask1 = office[\"Season\"] == 4\n",
    "mask2 = office[\"Director\"] == \"Harold Ramis\"\n",
    "season_4_or_harold = office[mask1 | mask2]\n",
    "#season_4 = office[\"Season\"] == 4\n",
    "#directed_by_harold_ramis = office[\"Director\"] == \"Harold Ramis\"\n",
    "#season_4_or_harold = office[season_4 | directed_by_harold_ramis]\n",
    "\n",
    "# CHALLENGE 2:\n",
    "# Find all episodes that EITHER had a Viewership less than 4\n",
    "# OR aired on/after January 1st, 2013.\n",
    "# Assign the resulting DataFrame to a 'low_viewership_or_later_airdate' variable.\n",
    "mask1 = office[\"Viewership\"] < 4\n",
    "mask2 = office[\"Airdate\"] >= \"01/01/2013\"\n",
    "low_viewership_or_later_airdate = office[mask1 | mask2]\n",
    "#low_viewership = office[\"Viewership\"] < 4\n",
    "#later_air_date = office[\"Airdate\"] >= \"01/01/2013\"\n",
    "#low_viewership_or_later_airdate = office[low_viewership | later_air_date]\n",
    "\n",
    "# CHALLENGE 3:\n",
    "# Find all episodes that EITHER the 9th episode of their season\n",
    "# OR had an episode Name of \"Niagara\"\n",
    "# Assign the resulting DataFrame to a 'ninth_or_niagara' variable.\n",
    "mask1 = office[\"Episode\"] == 9\n",
    "mask2 = office[\"Name\"] == \"Niagara\"\n",
    "ninth_or_niagara = office[mask1 | mask2]"
   ]
  },
  {
   "cell_type": "code",
   "execution_count": null,
   "id": "38664df4",
   "metadata": {},
   "outputs": [],
   "source": []
  },
  {
   "cell_type": "code",
   "execution_count": null,
   "id": "78ac71ba",
   "metadata": {},
   "outputs": [],
   "source": [
    "# If you see a test failure when checking your solution,\n",
    "# note that [left] refers to YOUR code while [right]\n",
    "# refers to the correct code that the computer is comparing\n",
    "# to your work\n",
    "\n",
    "# Let's start by importing pandas below\n",
    "import pandas as pd\n",
    "\n",
    "# This challenge includes a billboard.csv dataset.\n",
    "# It is a list of the top-selling albums of all time according to Billboard\n",
    "# The dataset has 5 columns:\n",
    "# Artist,Album,Released,Genre,Sales\n",
    "# Import the billboard.csv fille into a DataFrame. \n",
    "# Assign the imported DataFrame to an 'billboard' variable.\n",
    "billboard = pd.read_csv(\"billboard.csv\")\n",
    "\n",
    "# CHALLENGE 1\n",
    "# Find all records with an Artist of either Michael Jackson,\n",
    "# Whitney Houston, or Celine Dion. Assign the resulting \n",
    "# DataFrame to a \"trios\" DataFrame.\n",
    "mask = billboard[\"Artist\"].isin([\"Michael Jackson\", \"Whitney Houston\", \"Celine Dion\"])\n",
    "trios = billboard[mask]\n",
    "\n",
    "# CHALLENGE 2\n",
    "# Find all records with Sales of either 25, 35, or 45\n",
    "# million copies. Note that the 'Sales' column's integers\n",
    "# reflect album sales in millions. Assign the resulting DataFrame\n",
    "# to a 'fives' DataFrame\n",
    "mask = billboard[\"Sales\"].isin([25, 35, 45])\n",
    "fives = billboard[mask]\n",
    "# CHALLENGE 3\n",
    "# Find all records released in either 1979, 1989, or 1999.\n",
    "# Assign the resulting DataFrame to a 'end_of_decade' DataFrame.\n",
    "mask = billboard[\"Released\"].isin([1979, 1989, 1999])\n",
    "end_of_decade = billboard[mask]"
   ]
  },
  {
   "cell_type": "code",
   "execution_count": null,
   "id": "ddb47d3e",
   "metadata": {},
   "outputs": [],
   "source": []
  },
  {
   "cell_type": "code",
   "execution_count": null,
   "id": "50223765",
   "metadata": {},
   "outputs": [],
   "source": [
    "# If you see a test failure when checking your solution,\n",
    "# note that [left] refers to YOUR code while [right]\n",
    "# refers to the correct code that the computer is comparing\n",
    "# to your work\n",
    " \n",
    "# Let's start by importing pandas below\n",
    "import pandas as pd\n",
    " \n",
    "# This challenge includes a weather.csv dataset. It includes\n",
    "# temperature measurements (high and low) for the month of April.\n",
    "# The dataset has 3 columns:\n",
    "# Day, Low Temp, High Temp\n",
    "# Import the weather.csv file into a DataFrame. \n",
    "# Tell pandas to parse the values in the Day column as datetime values.\n",
    "# Finally, assign the imported DataFrame to a 'weather' variable.\n",
    " \n",
    "weather = pd.read_csv(\"weather.csv\", parse_dates = [\"Day\"])\n",
    " \n",
    "# CHALLENGE 1\n",
    "# I want to see the temperature for the days between April 15, 2022 and April 22, 2022.\n",
    "# Extract those rows to a new DataFrame and assign it to a 'week_of_weather' variable\n",
    " \n",
    "target_week = weather[\"Day\"].between(\"04/15/2022\", \"04/22/2022\")\n",
    "week_of_weather = weather[target_week]\n",
    " \n",
    "# CHALLENGE 2\n",
    "# Extract the rows where the value in the Low Temp column is between 30 and 50.\n",
    "# Assign the new DataFrame to a \"cold_days\" variable.\n",
    " \n",
    "low_temp_target = weather[\"Low Temp\"].between(30, 50)\n",
    "cold_days = weather[low_temp_target]\n",
    " \n",
    "# CHALLENGE 3\n",
    "# Extract the rows where the value in the High Temp column is between 50 and 75.\n",
    "# Assign the new DataFrame to a \"warm_days\" variable.\n",
    " \n",
    "high_temp_target = weather[\"High Temp\"].between(50, 75)\n",
    "warm_days = weather[high_temp_target]"
   ]
  },
  {
   "cell_type": "markdown",
   "id": "32dadc37",
   "metadata": {},
   "source": [
    "## Exercícios Capítulo de Texto"
   ]
  },
  {
   "cell_type": "code",
   "execution_count": null,
   "id": "9b47e338",
   "metadata": {},
   "outputs": [],
   "source": [
    "# If you see a test failure when checking your solution,\n",
    "# note that [left] refers to YOUR code while [right]\n",
    "# refers to the correct code that the computer is comparing\n",
    "# to your work\n",
    " \n",
    "# Let's start by importing pandas below\n",
    "import pandas as pd\n",
    " \n",
    "# This challenge includes a data.csv dataset.\n",
    "# The dataset has 3 columns: Name, Title, Cryptocurrency\n",
    "# Import the dataset and assign the DataFrame to a \"data\" variable.\n",
    "data = pd.read_csv(\"data.csv\")\n",
    " \n",
    "# Unfortunately, some of the text data has been incorrectly exported.\n",
    "# The strings in the Name column are all lowercased.\n",
    "# Capitalize the names properly (so the first letter of the person's first and last names are uppercase)\n",
    "# Then, overwrite the Name column with the new Series.\n",
    "data[\"Name\"] = data[\"Name\"].str.title()\n",
    " \n",
    "# Lowercase the strings in the Title column.\n",
    "# Then, overwrite the Title column with the new Series.\n",
    "data[\"Title\"] = data[\"Title\"].str.lower()\n",
    " \n",
    "# Uppercase the strings in the Cryptocurrency column.\n",
    "# Then, overwrite the Cryptocurrency column with the new Series.\n",
    "data[\"Cryptocurrency\"] = data[\"Cryptocurrency\"].str.upper()"
   ]
  },
  {
   "cell_type": "markdown",
   "id": "5310d52b",
   "metadata": {},
   "source": [
    "## Coding Exercise Solution: Create a MultiIndex on a DataFrame"
   ]
  },
  {
   "cell_type": "code",
   "execution_count": null,
   "id": "fe8bc492",
   "metadata": {},
   "outputs": [],
   "source": [
    "# If you see a test failure when checking your solution,\n",
    "# note that [left] refers to YOUR code while [right]\n",
    "# refers to the correct code that the computer is comparing\n",
    "# to your work\n",
    " \n",
    "# Let's start by importing pandas below\n",
    "import pandas as pd\n",
    " \n",
    "# This challenge includes a subway_locations.csv dataset.\n",
    "# It is a listing of all US locations of the Subway fast food restaurant chain.\n",
    "# The dataset has 4 columns:\n",
    "# city,state,latitude,longitude\n",
    "# Import the subway_locations.csv file into a DataFrame. \n",
    "# Assign the imported DataFrame to a 'subway' variable.\n",
    "subway = pd.read_csv(\"subway_locations.csv\")\n",
    " \n",
    " \n",
    "# CHALLENGE 1:\n",
    "# Create a MultiIndex with the levels coming from the 'state' and 'city' columns (in that order)\n",
    "# Assign the resulting DataFrame to a 'multi_df' variable.\n",
    "# Do not mutate the original DataFrame.\n",
    "multi_df = subway.set_index([\"state\", \"city\"])\n",
    " \n",
    " \n",
    "# CHALLENGE 2:\n",
    "# Using your MultiIndex DataFrame, sort the index by both levels' values\n",
    "# Assign the resulting DataFrame to a 'sorted_multi_df' variable.\n",
    "# Do not mutate any previous DataFrame.\n",
    "sorted_multi_df = multi_df.sort_index()"
   ]
  },
  {
   "cell_type": "code",
   "execution_count": null,
   "id": "0fdd6232",
   "metadata": {},
   "outputs": [],
   "source": []
  },
  {
   "cell_type": "markdown",
   "id": "6b78e9d2",
   "metadata": {},
   "source": [
    "## Coding Exercise Solution: Extract Index Level Values with the get_level_values M"
   ]
  },
  {
   "cell_type": "code",
   "execution_count": null,
   "id": "2f153e96",
   "metadata": {},
   "outputs": [],
   "source": [
    "# If you see a test failure when checking your solution,\n",
    "# note that [left] refers to YOUR code while [right]\n",
    "# refers to the correct code that the computer is comparing\n",
    "# to your work\n",
    " \n",
    "# Let's start by importing pandas below\n",
    "import pandas as pd\n",
    " \n",
    "# This challenge includes a subway_locations.csv dataset.\n",
    "# It is a listing of all US locations of the Subway fast food restaurant chain.\n",
    "# The dataset has 4 columns:\n",
    "# city,state,latitude,longitude\n",
    " \n",
    "# CHALLENGE 1:\n",
    "# Import the subway_locations.csv file into a DataFrame. \n",
    "# Create a MultiIndex with the levels coming from the 'state' and 'city' columns (in that order)\n",
    "# Sort the index (all columns must be sorted) and assign the resulting DataFrame to a 'subway' variable.\n",
    "subway = pd.read_csv(\"subway_locations.csv\", index_col = [\"state\", \"city\"]).sort_index()\n",
    " \n",
    " \n",
    "# CHALLENGE 2:\n",
    "# Using your DataFrame, access the Index holding the values from \n",
    "# the 'city' level. Assign the Index to a `city_index` variable.\n",
    " \n",
    "# NOTE: Either solution below is acceptable.\n",
    " \n",
    "city_index = subway.index.get_level_values(\"city\")\n",
    "city_index = subway.index.get_level_values(1)\n",
    " \n",
    "# CHALLENGE 3:\n",
    "# Using your DataFrame, access the Index holding the values from \n",
    "# the 'state' level. Assign the Index to a `state_index` variable.\n",
    " \n",
    "# NOTE: Either solution below is acceptable.\n",
    "state_index = subway.index.get_level_values(\"state\")\n",
    "state_index = subway.index.get_level_values(0)"
   ]
  },
  {
   "cell_type": "code",
   "execution_count": null,
   "id": "99614e7a",
   "metadata": {},
   "outputs": [],
   "source": []
  },
  {
   "cell_type": "markdown",
   "id": "1ede03df",
   "metadata": {},
   "source": [
    "## Coding Exercise Solution: Extract Rows from a MultiIndex DataFrame"
   ]
  },
  {
   "cell_type": "code",
   "execution_count": null,
   "id": "6a6676a0",
   "metadata": {},
   "outputs": [],
   "source": [
    "# If you see a test failure when checking your solution,\n",
    "# note that [left] refers to YOUR code while [right]\n",
    "# refers to the correct code that the computer is comparing\n",
    "# to your work\n",
    " \n",
    "import pandas as pd\n",
    " \n",
    "# This challenge includes a subway_locations.csv dataset.\n",
    "# It is a listing of all US locations of the Subway fast food restaurant chain.\n",
    "# The dataset has 4 columns:\n",
    "# city,state,latitude,longitude\n",
    " \n",
    "# CHALLENGE 1:\n",
    "# Import the subway_locations.csv file into a DataFrame. \n",
    "# Use the 'index_col' parameter to attach a MultiIndex with levels\n",
    "# coming from the 'state' and 'city' columns (in that order)\n",
    "# Sort the DataFrame by both index levels (in regular ascending order)\n",
    "# Assign the resulting DataFrame to a 'subway' variable.\n",
    "subway = pd.read_csv(\"subway_locations.csv\", index_col = [\"state\", \"city\"]).sort_index()\n",
    " \n",
    " \n",
    "# CHALLENGE 2:\n",
    "# Extract the row(s) with a 'state' level value of 'OK' and a\n",
    "# 'city' level value of 'Broken Arrow'. Assign the result to a\n",
    "# 'broken_arrow' variable.\n",
    "broken_arrow = subway.loc[(\"OK\", \"Broken Arrow\")]\n",
    " \n",
    " \n",
    "# CHALLENGE 3:\n",
    "# Extract the row(s) with a 'state' level value of 'FL' and a\n",
    "# 'city' level value of 'Winter Park'. Assign the result to a\n",
    "# 'winter_park' variable.\n",
    "winter_park = subway.loc[(\"FL\", \"Winter Park\")]"
   ]
  },
  {
   "cell_type": "code",
   "execution_count": null,
   "id": "05f6ef3b",
   "metadata": {},
   "outputs": [],
   "source": []
  },
  {
   "cell_type": "markdown",
   "id": "6108d7ba",
   "metadata": {},
   "source": [
    "## Coding Exercise Solution: The pd.melt Method"
   ]
  },
  {
   "cell_type": "code",
   "execution_count": null,
   "id": "4ca59634",
   "metadata": {},
   "outputs": [],
   "source": [
    "# If you see a test failure when checking your solution,\n",
    "# note that [left] refers to YOUR code while [right]\n",
    "# refers to the correct code that the computer is comparing\n",
    "# to your work\n",
    " \n",
    "# Let's start by importing pandas below\n",
    "import pandas as pd\n",
    " \n",
    "# This challenge includes a weather.csv dataset.\n",
    "# It is a listing of temperatures across 4 seasons in several cities\n",
    "# The dataset has 4 columns: City,Fall,Winter,Spring,Summer\n",
    "# Notice that the Fall, Winter, Spring, and Summer columns are storing\n",
    "# the same data point -- the temperature. This makes them good candidates\n",
    "# for melting into a single column.\n",
    "# Import the weather.csv file into a DataFrame. \n",
    "# Assign the imported DataFrame to a 'weather' variable.\n",
    "weather = pd.read_csv(\"weather.csv\")\n",
    " \n",
    "# CHALLENGE 1:\n",
    "# Create a new DataFrame using the 'weather' DataFrame by 'melting'\n",
    "# the season columns' values into a single one. The 4 Season values\n",
    "# should be stored in a column called 'Season'. The temperature\n",
    "# values should be stored in a column called 'Temperature'.\n",
    "# Your goal is a DataFrame that looks like this:\n",
    "# \n",
    "# City\t     Season\t Temperature\n",
    "# London\t Fall\t 68\n",
    "# Paris \t Fall\t 46\n",
    "# New York\t Fall\t 106\n",
    "# Dubai \t Fall\t 107\n",
    "# ... rows ...\n",
    "# Singapore    Summer   64\n",
    "# Los Angeles  Summer   84\n",
    "# Barcelona    Summer   92\n",
    "# Madrid       Summer   20\n",
    "#\n",
    "# Assign this DataFrame to a 'melted' variable"
   ]
  },
  {
   "cell_type": "code",
   "execution_count": null,
   "id": "ce2b7936",
   "metadata": {},
   "outputs": [],
   "source": []
  },
  {
   "cell_type": "code",
   "execution_count": null,
   "id": "2b8f30fd",
   "metadata": {},
   "outputs": [],
   "source": []
  },
  {
   "cell_type": "code",
   "execution_count": null,
   "id": "b005c6c2",
   "metadata": {},
   "outputs": [],
   "source": []
  },
  {
   "cell_type": "code",
   "execution_count": null,
   "id": "74b1321b",
   "metadata": {},
   "outputs": [],
   "source": []
  },
  {
   "cell_type": "code",
   "execution_count": null,
   "id": "1b78137d",
   "metadata": {},
   "outputs": [],
   "source": []
  },
  {
   "cell_type": "code",
   "execution_count": null,
   "id": "b38d0443",
   "metadata": {},
   "outputs": [],
   "source": []
  },
  {
   "cell_type": "code",
   "execution_count": null,
   "id": "e31c2497",
   "metadata": {},
   "outputs": [],
   "source": []
  },
  {
   "cell_type": "code",
   "execution_count": null,
   "id": "a3235968",
   "metadata": {},
   "outputs": [],
   "source": []
  },
  {
   "cell_type": "code",
   "execution_count": null,
   "id": "90c317bb",
   "metadata": {},
   "outputs": [],
   "source": []
  },
  {
   "cell_type": "code",
   "execution_count": null,
   "id": "04fb5075",
   "metadata": {},
   "outputs": [],
   "source": []
  },
  {
   "cell_type": "code",
   "execution_count": null,
   "id": "0601a357",
   "metadata": {},
   "outputs": [],
   "source": []
  },
  {
   "cell_type": "code",
   "execution_count": null,
   "id": "d1852fe1",
   "metadata": {},
   "outputs": [],
   "source": []
  },
  {
   "cell_type": "code",
   "execution_count": null,
   "id": "4d2301c9",
   "metadata": {},
   "outputs": [],
   "source": []
  },
  {
   "cell_type": "code",
   "execution_count": null,
   "id": "2aadeed7",
   "metadata": {},
   "outputs": [],
   "source": []
  },
  {
   "cell_type": "code",
   "execution_count": null,
   "id": "38e81304",
   "metadata": {},
   "outputs": [],
   "source": []
  },
  {
   "cell_type": "code",
   "execution_count": null,
   "id": "12fc96ff",
   "metadata": {},
   "outputs": [],
   "source": []
  },
  {
   "cell_type": "code",
   "execution_count": null,
   "id": "6436163f",
   "metadata": {},
   "outputs": [],
   "source": []
  }
 ],
 "metadata": {
  "kernelspec": {
   "display_name": "Python 3 (ipykernel)",
   "language": "python",
   "name": "python3"
  },
  "language_info": {
   "codemirror_mode": {
    "name": "ipython",
    "version": 3
   },
   "file_extension": ".py",
   "mimetype": "text/x-python",
   "name": "python",
   "nbconvert_exporter": "python",
   "pygments_lexer": "ipython3",
   "version": "3.9.17"
  }
 },
 "nbformat": 4,
 "nbformat_minor": 5
}
